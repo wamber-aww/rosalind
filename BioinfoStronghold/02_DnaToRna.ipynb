{
 "cells": [
  {
   "cell_type": "markdown",
   "metadata": {},
   "source": [
    "# Transcribing DNA into RNA\n",
    "\n",
    "An RNA string is a string formed from the alphabet containing 'A', 'C', 'G', and 'U'.  \n",
    "Given a DNA string t corresponding to a coding strand, its transcribed RNA string u is formed by replacing all occurrences of 'T' in t with 'U' in u.\n",
    "\n",
    "- Given: A DNA string t having length at most 1000 nt.\n",
    "- Return: The transcribed RNA string of t.\n",
    "\n",
    "> **Sample Dataset**\n",
    ">\n",
    "```\n",
    "GATGGAACTTGACTACGTAAATT\n",
    "```\n",
    "\n",
    "> **Sample Output**\n",
    ">\n",
    "```\n",
    "GAUGGAACUUGACUACGUAAAUU\n",
    "```"
   ]
  },
  {
   "cell_type": "code",
   "execution_count": 15,
   "metadata": {},
   "outputs": [],
   "source": [
    "#1: evaluate individual base\n",
    "def DnaToRna(string):\n",
    "    rna = ''\n",
    "    for i in string:\n",
    "        if i == 'T':\n",
    "            rna += 'U'\n",
    "        else:\n",
    "            rna += i\n",
    "    print(rna)"
   ]
  },
  {
   "cell_type": "code",
   "execution_count": 17,
   "metadata": {},
   "outputs": [
    {
     "name": "stdout",
     "output_type": "stream",
     "text": [
      "GAUGGAACUUGACUACGUAAAUU\n"
     ]
    }
   ],
   "source": [
    "string = 'GATGGAACTTGACTACGTAAATT'\n",
    "DnaToRna(string)"
   ]
  },
  {
   "cell_type": "code",
   "execution_count": 19,
   "metadata": {},
   "outputs": [
    {
     "name": "stdout",
     "output_type": "stream",
     "text": [
      "GAUGGAACUUGACUACGUAAAUU\n"
     ]
    }
   ],
   "source": [
    "#2: replace\n",
    "string = 'GATGGAACTTGACTACGTAAATT'\n",
    "print(string.replace('T', 'U'))"
   ]
  }
 ],
 "metadata": {
  "kernelspec": {
   "display_name": "Python 3",
   "language": "python",
   "name": "python3"
  },
  "language_info": {
   "codemirror_mode": {
    "name": "ipython",
    "version": 3
   },
   "file_extension": ".py",
   "mimetype": "text/x-python",
   "name": "python",
   "nbconvert_exporter": "python",
   "pygments_lexer": "ipython3",
   "version": "3.6.4"
  }
 },
 "nbformat": 4,
 "nbformat_minor": 2
}
