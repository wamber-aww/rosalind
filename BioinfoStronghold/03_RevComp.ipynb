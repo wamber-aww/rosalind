{
 "cells": [
  {
   "cell_type": "markdown",
   "metadata": {},
   "source": [
    "# The Secondary and Tertiary Structures of DNA\n",
    "\n",
    "In DNA strings, symbols 'A' and 'T' are complements of each other, as are 'C' and 'G'.  \n",
    "The reverse complement of a DNA string s is the string sc formed by reversing the symbols of s, then taking the complement of each symbol (e.g., the reverse complement of \"GTCA\" is \"TGAC\").\n",
    "\n",
    "- Given: A DNA string s of length at most 1000 bp.\n",
    "- Return: The reverse complement sc of s.\n",
    "\n",
    "> **Sample Dataset**\n",
    ">\n",
    "```\n",
    "AAAACCCGGT\n",
    "```\n",
    "\n",
    "> **Sample Output**\n",
    ">\n",
    "```\n",
    "ACCGGGTTTT\n",
    "```"
   ]
  },
  {
   "cell_type": "code",
   "execution_count": 3,
   "metadata": {},
   "outputs": [],
   "source": [
    "#1: dictionary lookup\n",
    "def RC(string):\n",
    "    revCom = '' #initiate empty rc\n",
    "    rcDict = {'A': 'T', 'C': 'G', 'T': 'A', 'G': 'C'} #use dictionary to do complement\n",
    "    \n",
    "    for i in string:\n",
    "        revCom = rcDict[i] + revCom\n",
    "        \n",
    "    print(revCom)"
   ]
  },
  {
   "cell_type": "code",
   "execution_count": 4,
   "metadata": {},
   "outputs": [
    {
     "name": "stdout",
     "output_type": "stream",
     "text": [
      "ACCGGGTTTT\n"
     ]
    }
   ],
   "source": [
    "string = 'AAAACCCGGT'\n",
    "RC(string)"
   ]
  },
  {
   "cell_type": "code",
   "execution_count": 11,
   "metadata": {},
   "outputs": [
    {
     "name": "stdout",
     "output_type": "stream",
     "text": [
      "ACCGGGTTTT\n"
     ]
    }
   ],
   "source": [
    "#2: replace\n",
    "string = 'AAAACCCGGT'\n",
    "print(string.replace('A', 't').replace('T', 'a').replace('C', 'g').replace('G', 'c').upper()[::-1])"
   ]
  }
 ],
 "metadata": {
  "kernelspec": {
   "display_name": "Python 3",
   "language": "python",
   "name": "python3"
  },
  "language_info": {
   "codemirror_mode": {
    "name": "ipython",
    "version": 3
   },
   "file_extension": ".py",
   "mimetype": "text/x-python",
   "name": "python",
   "nbconvert_exporter": "python",
   "pygments_lexer": "ipython3",
   "version": "3.6.4"
  }
 },
 "nbformat": 4,
 "nbformat_minor": 2
}
