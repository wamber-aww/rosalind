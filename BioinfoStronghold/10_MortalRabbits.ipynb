{
 "cells": [
  {
   "cell_type": "markdown",
   "metadata": {},
   "source": [
    "# Mortal Fibonacci Rabbits\n",
    "\n",
    "- Recall the definition of the Fibonacci numbers from “Rabbits and Recurrence Relations”, which followed the recurrence relation Fn=Fn−1+Fn−2 and assumed that each pair of rabbits reaches maturity in one month and produces a single pair of offspring (one male, one female) each subsequent month.\n",
    "\n",
    "- Our aim is to somehow modify this recurrence relation to achieve a dynamic programming solution in the case that all rabbits die out after a fixed number of months. See Figure 4 for a depiction of a rabbit tree in which rabbits live for three months (meaning that they reproduce only twice before dying).\n",
    "\n",
    "> **Sample Dataset**\n",
    ">\n",
    "```\n",
    "6 3\n",
    "```\n",
    "\n",
    "> **Sample Output**\n",
    ">\n",
    "```\n",
    "4\n",
    "```"
   ]
  },
  {
   "cell_type": "code",
   "execution_count": 141,
   "metadata": {},
   "outputs": [
    {
     "name": "stdout",
     "output_type": "stream",
     "text": [
      "4\n"
     ]
    }
   ],
   "source": [
    "def mortalPairs(n, m):\n",
    "    rbPairs = [1, 1]\n",
    "    for i in range(2, n):\n",
    "        if i < m: #no rabbits will die\n",
    "            rbPairs.append(rbPairs[i-1] + rbPairs[i-2])\n",
    "        elif i == m: #Fibonacci but one less rabbit\n",
    "            rbPairs.append(rbPairs[i-1] + rbPairs[i-2] - 1)\n",
    "        else:\n",
    "            rbPairs.append(rbPairs[i-1] + rbPairs[i-2] - rbPairs[i-(m+1)])\n",
    "    print(rbPairs[-1])\n",
    "mortalPairs(6, 3)"
   ]
  }
 ],
 "metadata": {
  "kernelspec": {
   "display_name": "Python 2",
   "language": "python",
   "name": "python2"
  },
  "language_info": {
   "codemirror_mode": {
    "name": "ipython",
    "version": 2
   },
   "file_extension": ".py",
   "mimetype": "text/x-python",
   "name": "python",
   "nbconvert_exporter": "python",
   "pygments_lexer": "ipython2",
   "version": "2.7.14"
  }
 },
 "nbformat": 4,
 "nbformat_minor": 2
}
