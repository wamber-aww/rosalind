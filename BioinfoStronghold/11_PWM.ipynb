{
 "cells": [
  {
   "cell_type": "markdown",
   "metadata": {},
   "source": [
    "# Consensus and Profile\n",
    "\n",
    "\n",
    "A matrix is a rectangular table of values divided into rows and columns. An m×n matrix has m rows and n columns. Given a matrix A, we write Ai,j to indicate the value found at the intersection of row i and column j.\n",
    "\n",
    "Say that we have a collection of DNA strings, all having the same length n. Their profile matrix is a 4×n matrix P in which P1,j represents the number of times that 'A' occurs in the jth position of one of the strings, P2,j represents the number of times that C occurs in the jth position, and so on (see below).\n",
    "\n",
    "A consensus string c is a string of length n formed from our collection by taking the most common symbol at each position; the jth symbol of c therefore corresponds to the symbol having the maximum value in the j-th column of the profile matrix. Of course, there may be more than one most common symbol, leading to multiple possible consensus strings.\n",
    "\n",
    "- Given: A collection of at most 10 DNA strings of equal length (at most 1 kbp) in FASTA format.\n",
    "- Return: A consensus string and profile matrix for the collection. (If several possible consensus strings exist, then you may return any one of them.)\n",
    "\n",
    "> **Sample Dataset**\n",
    ">\n",
    "```\n",
    ">Rosalind_1\n",
    "ATCCAGCT\n",
    ">Rosalind_2\n",
    "GGGCAACT\n",
    ">Rosalind_3\n",
    "ATGGATCT\n",
    ">Rosalind_4\n",
    "AAGCAACC\n",
    ">Rosalind_5\n",
    "TTGGAACT\n",
    ">Rosalind_6\n",
    "ATGCCATT\n",
    ">Rosalind_7\n",
    "ATGGCACT\n",
    "```\n",
    "\n",
    "> **Sample Output**\n",
    ">\n",
    "```\n",
    "ATGCAACT\n",
    "A: 5 1 0 0 5 5 0 0\n",
    "C: 0 0 1 4 2 0 6 1\n",
    "G: 1 1 6 3 0 1 0 0\n",
    "T: 1 5 0 0 0 1 1 6\n",
    "```"
   ]
  },
  {
   "cell_type": "markdown",
   "metadata": {},
   "source": [
    "### Dictionary and dataframe\n",
    "  1. Use a dictionary to count number of nucleotides at each location\n",
    "  2. From a dataframe, find the maximum count for each location and report back the consensus sequence"
   ]
  },
  {
   "cell_type": "code",
   "execution_count": 241,
   "metadata": {},
   "outputs": [],
   "source": [
    "def findPWM(fileName, length):\n",
    "    pwm = {'A': [0]*8, 'C': [0]*8, 'T': [0]*8, 'G': [0]*8}\n",
    "\n",
    "    with open(fileName, 'r') as f:\n",
    "        for line in f:\n",
    "            if line[0] != \">\":\n",
    "                line = line.rstrip()\n",
    "                for i in range(len(line)):\n",
    "                    pwm[line[i]][i] += 1\n",
    "    return(pwm)"
   ]
  },
  {
   "cell_type": "code",
   "execution_count": 246,
   "metadata": {},
   "outputs": [],
   "source": [
    "def findCons(pwm):\n",
    "    \n",
    "    import pandas as pd\n",
    "    PWM = pd.DataFrame(pwm).transpose()\n",
    "    print(PWM.idxmax().to_string(index = False).replace(\"\\n\", \"\"))\n",
    "    \n",
    "    for key, value in pwm.items():\n",
    "        print(\"{}: {}\".format(key, \" \".join([str(c) for c in value])))"
   ]
  },
  {
   "cell_type": "code",
   "execution_count": 248,
   "metadata": {},
   "outputs": [
    {
     "name": "stdout",
     "output_type": "stream",
     "text": [
      "ATGCAACT\n",
      "A: 5 1 0 0 5 5 0 0\n",
      "C: 0 0 1 4 2 0 6 1\n",
      "T: 1 5 0 0 0 1 1 6\n",
      "G: 1 1 6 3 0 1 0 0\n"
     ]
    }
   ],
   "source": [
    "findCons(findPWM('Q11.txt', 8))"
   ]
  },
  {
   "cell_type": "markdown",
   "metadata": {},
   "source": [
    "### Fasta files\n",
    "  1. For the actual problem the file breaks up the same sequence into different lines, a preprocessing function is added to concatenate the sequence\n",
    "  2. Build a PWM from a list of sequences\n",
    "  3. Still use a dataframe to retrieve the consensus sequence"
   ]
  },
  {
   "cell_type": "code",
   "execution_count": 283,
   "metadata": {},
   "outputs": [],
   "source": [
    "def preProc(fileName):\n",
    "    with open('rosalind_cons.txt', 'r') as f:\n",
    "        content = \"\".join(line.strip() for line in f).split(\">\")[1:]\n",
    "        seq = [content[i][13:] for i in range(len(content))]\n",
    "        length = len(seq[0])\n",
    "    \n",
    "    return(seq, length)"
   ]
  },
  {
   "cell_type": "code",
   "execution_count": 293,
   "metadata": {},
   "outputs": [],
   "source": [
    "def getPWM(seq, length):\n",
    "    pwm = {'A': [0]*length, 'C': [0]*length, 'T': [0]*length, 'G': [0]*length}\n",
    "    \n",
    "    for indiv in seq:\n",
    "        for i in range(len(indiv)):\n",
    "            pwm[indiv[i]][i] += 1\n",
    "    \n",
    "    return(pwm)"
   ]
  },
  {
   "cell_type": "code",
   "execution_count": 285,
   "metadata": {},
   "outputs": [],
   "source": [
    "def findCons(pwm):\n",
    "    \n",
    "    import pandas as pd\n",
    "    PWM = pd.DataFrame(pwm).transpose()\n",
    "    print(PWM.idxmax().to_string(index = False).replace(\"\\n\", \"\"))\n",
    "    \n",
    "    for key, value in pwm.items():\n",
    "        print(\"{}: {}\".format(key, \" \".join([str(c) for c in value])))"
   ]
  },
  {
   "cell_type": "code",
   "execution_count": 295,
   "metadata": {
    "scrolled": true
   },
   "outputs": [
    {
     "name": "stdout",
     "output_type": "stream",
     "text": [
      "GCCATTAAGATAAGTAACACGGATATATCGTGGGTATGAATCAGTTACCGGAGGCCAAGTTCCAATCTTCTACAGGAGCGACCCAGAACAGACAGGGAAAAGAGGGCCTAATGACCCTTGCTGGCTAACAAACCAGCAGCGGGGATTGCACTACGATGTAGGAGACGTCCAAATCGAGAAAGGGTACACACACTAAACTCAATGAGGAGCCGCTCAAAGAGGCAAAGTCCAGCAGGAGGAAACAACCCGTCTTCAGAAGTGGTGAAGTCGAACTCGCGCGAGTTGTAGAATAGGAGCGTTTTGCACACAGCATAAGAGACCTACATACCCACCAATGGGAGATGAAATATGATCATTCAACAAGATAATCCGAGCCACCACTGAATCAGCGGTCGCCCTCAACAGGGCGATAACACCCATGAAGACAAGCGAAAGAACAACGCTTACTACGTATAGACTCACCCACTCCCTAAGAGCCCAACATAGCCTGCACACGCCAGAGAGAACAACCGGAATGGCATATCATCGCGGTAAATGACTAAATACAGAGAATATCAACTAAAGCTGGGCCGACATAATTCTAACTGCACTAGTCGAGCCTACCCCTGAACAAAAATTATACTCCCTAGACCCGTGACTGCCAGCAGGTGGCACTTACAGTTAAATCGCGACCGAAAGGTTATAGCTCCACTCATGAATAACAGCAAGATCCGGAAGTTCGACATAGATGCCAGGTCAGTGACAACCATCAACTGGAGGGCACACTAACGACACACCAAAACTGTGGGTAATGCATAGGAAACATCCGTCACAGCACGACGGCAGCATTCGACTGCCAGACACGGCGTACTTGGGGATTAAGAGACACCCAAAAGCCTCCTTACATCCGGGAAATATATCAGAGTAAAGAGCCCTTCCACCTCCGCATA\n",
      "A: 2 2 0 3 0 3 4 5 1 3 2 5 5 2 3 5 3 1 3 0 1 2 4 1 3 3 4 2 2 3 1 2 3 2 2 5 1 2 4 4 3 2 5 1 1 2 3 2 1 2 2 3 1 1 3 1 3 5 3 1 1 2 1 3 5 1 2 3 2 1 3 4 2 3 1 0 4 2 1 1 3 2 2 3 3 1 3 5 1 6 2 4 2 5 2 2 2 6 4 3 3 3 4 2 3 1 3 1 2 4 4 2 3 3 1 2 2 3 1 1 3 2 2 2 2 1 5 6 1 3 3 6 2 2 3 2 2 3 2 1 1 2 2 3 4 2 2 1 2 4 2 2 3 1 1 4 2 2 2 4 1 1 5 2 3 2 1 0 2 1 6 4 4 1 2 2 3 2 8 4 4 3 2 1 3 3 4 3 0 3 1 3 2 1 4 7 5 2 0 2 6 4 1 3 3 2 2 6 1 2 2 3 3 2 1 3 4 4 2 4 2 2 1 4 4 4 0 0 1 2 3 1 0 4 4 1 7 1 2 4 3 4 2 5 3 3 2 1 1 1 2 3 1 2 3 2 3 4 0 3 3 0 1 2 4 4 1 3 2 3 6 3 3 3 1 1 2 2 2 1 4 1 3 2 1 2 5 2 4 7 3 3 2 2 5 3 1 2 1 1 3 2 2 2 3 1 4 2 4 2 2 3 2 3 4 3 4 3 4 2 3 0 5 2 3 2 5 1 0 1 3 1 1 3 4 2 2 1 3 4 2 4 2 2 3 4 4 2 3 3 1 4 0 3 4 0 1 2 3 4 1 4 3 2 4 1 3 3 1 2 2 2 6 2 0 0 3 3 3 4 1 0 2 5 5 2 1 4 3 1 2 1 1 2 1 1 1 1 3 0 4 3 2 6 2 3 2 3 1 3 2 5 3 2 3 0 0 2 6 3 3 4 4 0 4 2 5 4 0 1 4 4 4 3 2 3 3 1 4 3 0 2 2 3 3 3 1 2 3 4 2 1 4 1 4 2 6 2 1 3 5 2 1 2 3 2 3 2 0 2 2 6 4 2 5 2 1 2 3 4 5 2 4 2 4 3 3 2 3 2 2 4 1 3 3 2 2 1 3 2 3 1 4 3 4 3 1 5 4 3 2 2 1 3 3 2 1 2 2 5 2 3 1 0 7 3 2 0 2 3 0 2 6 4 4 1 3 5 2 3 3 4 3 2 7 1 3 2 3 2 4 5 0 5 1 1 5 4 1 3 4 3 4 2 1 1 1 2 2 2 3 2 4 2 4 4 6 4 1 2 2 2 4 4 1 1 2 1 5 2 1 5 1 3 1 2 3 2 0 1 2 3 3 2 2 2 3 2 3 4 1 3 4 5 5 3 1 1 4 2 3 1 2 2 1 1 1 3 1 5 3 2 2 1 1 0 3 2 1 2 2 0 3 0 3 4 2 2 2 1 3 1 5 1 0 2 4 2 4 2 2 2 5 3 3 1 2 2 3 1 4 2 3 3 4 4 4 2 2 0 3 3 1 4 1 3 3 3 1 4 3 3 2 4 3 2 4 4 2 6 4 2 3 2 0 5 4 3 5 2 4 2 2 2 4 4 0 2 1 2 2 3 2 4 2 4 3 4 3 0 3 2 5 2 1 3 1 5 2 3 2 5 2 3 4 3 1 5 3 1 4 6 0 1 2 3 5 3 2 3 3 4 0 4 3 1 3 3 3 3 3 1 5 1 6 0 0 3 4 5 3 2 3 3 2 2 3 1 2 4 4 2 2 1 4 3 3 0 0 4 3 5 3 3 1 3 2 2 3 1 4 2 5 2 1 4 2 1 3 2 4 2 2 3 1 2 3 2 2 3 3 5 1 2 2 2 1 4 2 4 3 3 0 1 3 1 2 2 3 2 2 2 2 2 1 2 5 2 2 5 6 1 4 2 4 3 4 2 0 2 3 4 7 4 1 2 2 1 3 2 0 0 3 2 4 2 3 2 2 3 3 6 3 7 2 4 0 3 2 0 6 1 5 2 1 4 3 4 1 5 2 2 1 3 3 1 1 2 4 3 1 3 2 2 3 0 4 2 4\n",
      "C: 0 4 4 3 1 0 1 1 2 1 3 1 2 1 2 3 1 5 3 4 1 2 4 2 3 1 4 3 3 0 2 3 1 2 1 4 3 2 2 2 1 3 2 1 2 2 3 4 4 0 2 2 2 2 5 4 1 0 2 1 3 4 4 1 2 3 3 0 2 3 1 1 4 2 2 1 2 2 3 2 3 4 5 4 2 3 3 3 5 2 2 3 5 1 2 1 2 2 2 2 3 1 2 1 2 1 4 4 1 1 1 3 1 2 3 3 3 1 2 3 4 3 1 1 4 3 4 3 4 1 2 1 3 3 3 0 4 3 2 5 3 1 1 0 0 2 1 3 4 2 4 1 3 4 2 3 2 2 2 0 3 2 3 2 1 3 1 3 4 5 2 3 1 3 3 2 3 2 0 2 0 1 3 2 2 3 5 2 6 3 5 2 4 3 1 2 2 4 1 3 1 3 3 1 3 2 1 1 2 4 4 3 5 2 5 3 2 3 2 3 1 0 5 2 1 2 3 3 4 4 1 2 4 2 0 3 1 3 2 1 1 2 6 1 3 5 3 5 2 2 3 2 3 4 2 1 2 2 2 0 0 3 3 0 1 2 2 2 6 2 1 1 4 1 3 2 5 2 3 1 4 3 3 2 2 2 1 3 2 2 2 3 1 2 0 0 4 2 1 3 1 3 2 3 3 6 2 3 1 3 7 3 3 1 4 2 3 1 1 4 4 3 3 3 2 2 0 5 4 5 2 5 5 3 1 3 3 3 3 3 1 0 1 2 2 2 3 2 2 2 1 2 3 4 3 0 3 5 3 3 3 4 3 0 1 3 3 3 3 3 5 3 1 0 4 4 1 4 4 2 5 2 3 1 1 1 5 2 2 5 1 2 2 3 3 4 5 3 1 4 1 2 3 1 2 1 2 4 2 3 1 3 2 5 2 4 5 3 0 3 3 4 3 3 1 5 1 2 2 4 0 2 2 1 2 3 3 4 2 2 4 0 5 0 1 3 3 3 3 5 2 1 2 2 2 2 1 3 2 4 2 3 4 4 3 4 2 6 4 5 1 1 0 3 1 2 4 5 4 2 2 4 2 3 3 1 5 4 1 2 6 1 4 2 4 2 4 3 2 1 3 2 3 2 2 2 7 3 3 4 4 0 3 2 2 2 1 2 4 0 3 3 3 4 0 2 4 2 3 1 2 3 2 3 2 2 2 2 4 1 2 2 2 3 3 5 2 3 2 2 2 3 3 2 0 3 2 0 6 2 2 3 2 2 8 2 2 3 1 3 4 2 0 4 2 0 1 2 2 1 4 2 2 3 4 3 2 4 1 5 0 2 1 1 5 2 3 2 7 5 3 2 4 3 4 4 0 1 3 0 4 1 1 2 5 2 3 2 2 2 1 4 0 3 5 5 0 3 3 0 5 4 3 2 3 2 2 4 2 3 5 4 3 3 4 3 2 3 3 2 2 4 0 4 3 3 2 3 2 2 2 3 2 3 3 2 5 2 4 1 1 3 4 0 2 3 2 2 2 2 2 2 2 1 2 4 1 4 4 1 4 0 4 2 2 1 3 2 2 0 3 4 3 2 4 0 2 2 1 2 5 3 2 1 3 3 2 1 1 3 2 3 4 2 2 0 0 1 0 2 4 4 2 2 2 2 5 2 1 3 0 2 3 2 2 4 4 4 1 4 3 0 4 3 2 1 3 3 2 1 4 1 6 1 4 2 1 2 4 1 2 5 0 4 1 4 7 2 2 0 2 3 2 0 0 1 1 2 2 4 1 2 2 4 3 2 3 2 3 1 3 2 4 2 2 4 3 2 2 3 1 4 2 2 3 3 3 2 3 4 1 3 3 2 1 3 2 2 3 5 1 3 5 1 2 3 5 1 2 3 4 2 5 2 2 4 3 3 1 4 3 1 2 2 4 1 1 1 1 3 2 3 3 3 3 5 1 3 5 5 3 2 1 3 3 4 3 2 4 3 1 3 2 5 2 2 5 4 2 2 2 2 2 1 2 2 4 3 2 5 0 3 3 1 1 2 2 2 3 2 2 4 5 4 1 2 4 5 3 5 3 0 4 4 1 4 2 1 4\n",
      "T: 4 3 4 3 6 6 2 3 3 3 4 2 3 3 4 2 3 2 2 2 3 2 2 4 2 4 2 4 3 3 4 1 2 2 4 1 5 3 3 0 4 2 2 2 5 4 1 1 3 1 3 3 3 2 0 4 3 2 0 6 4 3 4 3 3 5 3 5 4 3 4 3 2 3 3 2 2 3 3 2 2 3 0 3 2 2 3 1 2 2 1 3 1 2 3 2 3 1 2 3 2 1 0 3 1 3 2 2 4 1 4 4 2 2 3 3 3 5 4 2 2 4 3 2 3 5 0 1 1 3 2 2 3 2 1 3 2 1 2 2 2 3 3 3 4 4 6 1 3 1 1 4 3 2 1 2 5 1 4 2 2 2 1 2 3 2 4 4 2 4 2 1 2 4 3 3 2 2 1 2 3 2 0 3 5 2 0 3 1 1 1 3 3 4 3 0 2 4 5 2 3 2 4 2 3 1 2 0 3 2 3 0 0 4 0 2 2 1 2 2 3 4 3 0 3 3 2 4 1 1 3 2 4 1 0 2 0 2 3 1 3 3 1 3 3 1 3 3 2 5 2 4 4 1 2 1 2 2 3 5 3 3 4 4 3 2 2 5 0 1 2 3 2 4 3 3 1 2 3 4 0 1 4 4 3 5 2 1 1 0 4 2 3 3 2 3 3 3 5 5 4 4 3 2 1 3 3 3 3 1 0 1 4 3 1 1 1 2 3 2 0 4 2 3 2 5 3 3 4 3 3 3 2 3 2 5 1 1 0 2 3 2 6 3 3 4 2 4 2 4 3 2 5 2 2 6 4 2 2 2 3 2 3 4 3 4 1 2 4 3 1 1 1 3 2 3 3 1 2 3 2 6 1 2 1 5 2 3 0 1 2 3 4 3 2 3 0 3 4 3 2 2 2 1 3 1 3 1 2 2 4 0 3 1 3 3 3 2 3 4 0 2 2 3 2 3 1 0 4 4 0 3 1 3 3 2 2 2 2 3 2 3 0 4 4 2 3 4 2 0 1 6 3 5 1 2 1 2 5 2 3 3 1 2 3 2 4 2 3 2 5 2 3 1 2 3 2 2 3 3 1 1 2 4 2 2 2 1 5 3 0 2 4 3 1 3 2 3 3 1 2 2 1 1 3 2 1 1 1 0 4 2 2 3 3 4 4 3 3 3 4 2 5 2 2 4 3 3 3 2 4 5 0 2 1 4 1 2 2 4 2 1 2 4 0 1 2 1 3 3 1 1 6 1 5 3 1 4 1 4 2 2 1 3 0 4 3 1 1 3 0 3 3 3 1 5 2 2 5 4 0 5 1 3 2 4 2 3 3 1 6 3 1 5 2 3 1 3 1 3 4 3 2 2 4 2 5 1 2 3 3 3 3 1 0 3 4 5 1 5 3 1 5 2 2 0 5 1 2 2 1 1 2 1 4 4 2 2 4 1 1 2 2 0 0 3 3 1 4 1 1 4 1 1 5 4 2 3 1 2 5 4 1 2 2 6 2 3 3 1 3 2 2 2 4 2 2 2 2 5 4 2 4 3 2 2 6 0 4 4 2 4 3 0 4 3 0 2 4 3 3 3 3 2 3 3 2 1 3 5 0 2 2 3 1 0 3 4 5 2 1 1 3 2 4 3 3 3 5 3 2 1 2 3 3 4 2 2 3 4 4 2 2 3 0 2 3 0 4 2 3 3 3 4 1 2 1 0 2 2 1 2 3 1 1 4 3 2 3 2 3 1 2 1 0 3 2 2 1 2 2 2 4 3 6 3 2 3 4 2 3 4 2 2 1 4 3 4 3 2 2 0 3 3 5 2 3 2 4 3 4 0 1 3 3 3 2 3 2 2 0 1 2 2 4 2 2 4 4 1 2 1 4 4 3 3 2 2 2 2 2 2 2 3 1 2 1 4 3 2 4 5 3 3 0 3 3 5 6 0 1 2 3 0 2 1 2 3 2 3 1 2 2 1 1 2 3 5 2 3 6 4 2 1 0 5 0 2 1 1 1 0 2 2 4 4 5 2 4 3 2 2 0 1 6 1 3 1 2 2 3 1 1 2 4 4 2 1 0 2 3 5 1 3 1 3 1 4 1\n",
      "G: 4 1 2 1 3 1 3 1 4 3 1 2 0 4 1 0 3 2 2 4 5 4 0 3 2 2 0 1 2 4 3 4 4 4 3 0 1 3 1 4 2 3 1 6 2 2 3 3 2 7 3 2 4 5 2 1 3 3 5 2 2 1 1 3 0 1 2 2 2 3 2 2 2 2 4 7 2 3 3 5 2 1 3 0 3 4 1 1 2 0 5 0 2 2 3 5 3 1 2 2 2 5 4 4 4 5 1 3 3 4 1 1 4 3 3 2 2 1 3 4 1 1 4 5 1 1 1 0 4 3 3 1 2 3 3 5 2 3 4 2 4 4 4 4 2 2 1 5 1 3 3 3 1 3 6 1 1 5 2 4 4 5 1 4 3 3 4 3 2 0 0 2 3 2 2 3 2 4 1 2 3 4 5 4 0 2 1 2 3 3 3 2 1 2 2 1 1 0 4 3 0 1 2 4 1 5 5 3 4 2 1 4 2 2 4 2 2 2 4 1 4 4 1 4 2 1 5 3 4 3 3 5 2 3 6 4 2 4 3 4 3 1 1 1 1 1 2 1 5 2 3 1 2 3 3 6 3 2 5 2 4 4 2 4 2 2 5 0 2 4 1 3 1 2 3 4 2 4 2 4 2 5 0 2 4 1 2 4 3 1 1 2 4 3 3 4 2 3 3 1 2 1 3 3 3 0 1 2 2 4 1 3 1 3 1 4 2 4 2 2 3 3 0 2 3 1 2 1 2 1 2 1 2 1 3 0 4 5 4 1 4 4 1 3 2 0 1 2 3 1 5 2 2 1 1 4 2 1 2 1 3 0 1 4 2 2 3 2 2 2 2 4 2 5 4 3 3 2 1 1 2 2 4 2 3 2 2 1 5 3 5 4 3 2 4 2 4 3 2 3 3 3 3 2 3 5 3 2 5 2 3 2 2 2 2 3 2 3 1 0 4 0 1 4 3 0 3 4 4 1 6 1 3 3 3 2 2 3 2 2 4 5 3 3 2 2 3 1 2 1 5 2 1 2 3 4 2 3 2 1 0 2 4 2 1 2 1 0 3 1 2 1 3 4 2 3 3 1 0 1 2 3 2 1 1 4 0 3 1 3 2 3 1 2 2 3 2 3 2 6 2 5 2 4 1 3 1 1 2 3 0 6 4 2 2 2 4 3 1 2 1 2 1 4 1 1 1 5 2 4 4 0 2 1 3 3 4 1 2 2 3 3 3 1 0 3 3 4 2 3 3 1 1 2 4 3 2 2 2 1 2 2 3 3 1 3 4 4 6 2 3 3 3 1 3 1 1 2 2 3 4 1 3 0 3 2 4 2 1 2 3 0 7 1 2 3 3 3 2 1 1 2 1 3 0 2 2 6 2 3 2 3 2 2 0 2 2 2 3 1 3 4 3 3 2 4 4 3 4 3 1 3 3 6 2 4 3 2 3 4 2 4 2 7 3 0 3 4 1 6 4 1 4 4 2 1 2 2 3 4 1 1 2 2 2 1 1 3 0 7 2 3 1 5 0 1 2 4 4 3 1 3 3 2 5 1 0 3 1 1 1 3 1 4 1 4 3 2 2 1 0 1 1 4 3 2 2 4 1 1 1 3 4 4 2 3 5 3 3 3 5 3 1 2 2 3 4 2 2 5 1 3 1 3 4 1 2 1 4 0 4 1 3 2 4 1 2 1 2 3 0 1 3 2 5 4 1 4 4 4 2 3 1 4 2 3 3 3 0 4 2 3 3 4 3 3 1 3 3 3 3 3 1 4 2 4 4 4 2 0 2 2 4 3 2 1 1 4 4 3 2 3 0 2 2 1 2 4 1 3 1 4 2 3 3 0 3 4 2 2 5 4 3 3 4 3 3 2 1 1 4 1 0 3 3 2 2 3 4 1 1 3 3 4 4 3 4 1 3 2 1 2 3 3 5 4 1 2 1 2 1 4 0 5 1 1 3 2 3 0 3 2 0 2 5 2 2 2 1 2 3 3 3 2 4 1 2 2 5 4 4 2 3 0 2 0 1 2 2 2 2 4 2 6 2 3 2 3 4 1 3 3 3 1 2 3 3 2 3 0 3 2 3 1 5 3 3 3 1\n"
     ]
    }
   ],
   "source": [
    "seq, length = preProc('rosalind_cons.txt')\n",
    "findCons(getPWM(seq, length))"
   ]
  }
 ],
 "metadata": {
  "kernelspec": {
   "display_name": "Python 3",
   "language": "python",
   "name": "python3"
  },
  "language_info": {
   "codemirror_mode": {
    "name": "ipython",
    "version": 3
   },
   "file_extension": ".py",
   "mimetype": "text/x-python",
   "name": "python",
   "nbconvert_exporter": "python",
   "pygments_lexer": "ipython3",
   "version": "3.6.4"
  }
 },
 "nbformat": 4,
 "nbformat_minor": 2
}
