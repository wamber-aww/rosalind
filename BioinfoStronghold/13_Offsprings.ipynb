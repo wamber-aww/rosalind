{
 "cells": [
  {
   "cell_type": "markdown",
   "metadata": {},
   "source": [
    "# Calculating Expected Offspring\n",
    "\n",
    "\n",
    "For a random variable X taking integer values between 1 and n, the expected value of X is E(X)=∑nk=1k×Pr(X=k). The expected value offers us a way of taking the long-term average of a random variable over a large number of trials.\n",
    "\n",
    "As a motivating example, let X be the number on a six-sided die. Over a large number of rolls, we should expect to obtain an average of 3.5 on the die (even though it's not possible to roll a 3.5). The formula for expected value confirms that E(X)=∑6k=1k×Pr(X=k)=3.5.\n",
    "\n",
    "More generally, a random variable for which every one of a number of equally spaced outcomes has the same probability is called a uniform random variable (in the die example, this \"equal spacing\" is equal to 1). We can generalize our die example to find that if X is a uniform random variable with minimum possible value a and maximum possible value b, then E(X)=a+b2. You may also wish to verify that for the dice example, if Y is the random variable associated with the outcome of a second die roll, then E(X+Y)=7.\n",
    "\n",
    "- Given: Six nonnegative integers, each of which does not exceed 20,000. The integers correspond to the number of couples in a population possessing each genotype pairing for a given factor. In order, the six given integers represent the number of couples having the following genotypes:\n",
    "    1. AA-AA\n",
    "    2. AA-Aa\n",
    "    3. AA-aa\n",
    "    4. Aa-Aa\n",
    "    5. Aa-aa\n",
    "    6. aa-aa\n",
    "- Return: The expected number of offspring displaying the dominant phenotype in the next generation, under the assumption that every couple has exactly two offspring.\n",
    "\n",
    "> **Sample Dataset**\n",
    ">\n",
    "```\n",
    "1 0 0 1 0 1\n",
    "```\n",
    "\n",
    "> **Sample Output**\n",
    ">\n",
    "```\n",
    "3.5\n",
    "```"
   ]
  },
  {
   "cell_type": "code",
   "execution_count": 26,
   "metadata": {},
   "outputs": [],
   "source": [
    "def expectOffsp(parents, offsprings = 2):\n",
    "    import numpy as np\n",
    "    domP = [1, 1, 1, 0.75, 0.5, 0]\n",
    "    return(sum(np.array(parents) * np.array(domP) * offsprings))"
   ]
  },
  {
   "cell_type": "code",
   "execution_count": 27,
   "metadata": {},
   "outputs": [
    {
     "data": {
      "text/plain": [
       "3.5"
      ]
     },
     "execution_count": 27,
     "metadata": {},
     "output_type": "execute_result"
    }
   ],
   "source": [
    "parents = \"1 0 0 1 0 1\"\n",
    "parents = [int(i) for i in parents.split()]\n",
    "expectOffsp(parents)"
   ]
  },
  {
   "cell_type": "code",
   "execution_count": 30,
   "metadata": {},
   "outputs": [
    {
     "data": {
      "text/plain": [
       "160025.5"
      ]
     },
     "execution_count": 30,
     "metadata": {},
     "output_type": "execute_result"
    }
   ],
   "source": [
    "parents = \"18020 19256 19563 19287 17417 18835\"\n",
    "parents = [int(i) for i in parents.split()]\n",
    "expectOffsp(parents)"
   ]
  }
 ],
 "metadata": {
  "kernelspec": {
   "display_name": "Python 3",
   "language": "python",
   "name": "python3"
  },
  "language_info": {
   "codemirror_mode": {
    "name": "ipython",
    "version": 3
   },
   "file_extension": ".py",
   "mimetype": "text/x-python",
   "name": "python",
   "nbconvert_exporter": "python",
   "pygments_lexer": "ipython3",
   "version": "3.6.4"
  }
 },
 "nbformat": 4,
 "nbformat_minor": 2
}
