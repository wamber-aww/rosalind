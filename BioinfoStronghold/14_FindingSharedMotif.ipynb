{
 "cells": [
  {
   "cell_type": "markdown",
   "metadata": {},
   "source": [
    "# Finding a Shared Motif\n",
    "\n",
    "A common substring of a collection of strings is a substring of every member of the collection. We say that a common substring is a longest common substring if there does not exist a longer common substring. For example, \"CG\" is a common substring of \"ACGTACGT\" and \"AACCGTATA\", but it is not as long as possible; in this case, \"CGTA\" is a longest common substring of \"ACGTACGT\" and \"AACCGTATA\".\n",
    "\n",
    "Note that the longest common substring is not necessarily unique; for a simple example, \"AA\" and \"CC\" are both longest common substrings of \"AACC\" and \"CCAA\".\n",
    "\n",
    "- Given: A collection of k (k≤100) DNA strings of length at most 1 kbp each in FASTA format.\n",
    "- Return: A longest common substring of the collection. (If multiple solutions exist, you may return any single solution.)\n",
    "\n",
    "> **Sample Dataset**\n",
    ">\n",
    "```\n",
    ">Rosalind_1\n",
    "GATTACA\n",
    ">Rosalind_2\n",
    "TAGACCA\n",
    ">Rosalind_3\n",
    "ATACA\n",
    "```\n",
    "\n",
    "> **Sample Output**\n",
    ">\n",
    "```\n",
    "AC\n",
    "```"
   ]
  },
  {
   "cell_type": "markdown",
   "metadata": {},
   "source": [
    "### Method 1: longest substring matching with matrix\n",
    "This method takes a long time as the number of sequences increase"
   ]
  },
  {
   "cell_type": "code",
   "execution_count": 2,
   "metadata": {},
   "outputs": [],
   "source": [
    "# step 1: define a function that takes two strings and returns the longest common substring\n",
    "def lcs(X, Y):\n",
    "    # make a matrix counter with row >= col\n",
    "    mat_row = len(X)\n",
    "    mat_col = len(Y)\n",
    "    mat = [[0]*(mat_col+1) for x in range(mat_row+1)]\n",
    "\n",
    "    # set a counter for the longest match and save the longest matching substring\n",
    "    longest_match = 0\n",
    "    longest_set = []\n",
    "\n",
    "    # loop through matrix to find match starting from the first row\n",
    "    for i in range(mat_row):\n",
    "        # starting from the first row and first column\n",
    "        for j in range(mat_col):\n",
    "            if X[i] == Y[j]:\n",
    "                # the next letter (positioned diagonally) should be matched\n",
    "                counter = mat[i][j] + 1\n",
    "                mat[i+1][j+1] = counter\n",
    "                if counter > longest_match:\n",
    "                    longest_set = []\n",
    "                    # update the longest match counter and substring\n",
    "                    longest_match = counter\n",
    "                    longest_set.append(X[i-counter+1:i+1])\n",
    "\n",
    "    return(longest_set)"
   ]
  },
  {
   "cell_type": "code",
   "execution_count": 3,
   "metadata": {},
   "outputs": [],
   "source": [
    "# step 2: define a function that processes a fasta file into a list of sequences\n",
    "def getSeqOnly(fileName):\n",
    "    from Bio import SeqIO\n",
    "    sequences = []\n",
    "    for record in SeqIO.parse(fileName, 'fasta'):\n",
    "        # remove metadata that comes with SeqIO.parse\n",
    "        seq = ''\n",
    "        # only keep the nucleotides\n",
    "        for nt in record.seq:\n",
    "            seq += nt\n",
    "        sequences.append(seq)\n",
    "    return(sequences)"
   ]
  },
  {
   "cell_type": "code",
   "execution_count": 4,
   "metadata": {},
   "outputs": [],
   "source": [
    "# step 3: define a function that takes a fasta file and returns the longest common substring\n",
    "\n",
    "def lcsFromFile(fileName):\n",
    "    # process fasta file into a list\n",
    "    seq = getSeqOnly(fileName)\n",
    "\n",
    "    # the longest common substring will only be as long as the shortest sequence\n",
    "    # so we sort the sequences first and use the shortest one to match the rest\n",
    "    sorted_seq = sorted(seq, key = len)\n",
    "\n",
    "    # get the first match sequence and length\n",
    "    lcs_string = lcs(sorted_seq[0], sorted_seq[1])\n",
    "    lcs_count = len(lcs_string[0])\n",
    "\n",
    "    # iterate through the rest of the sequences comapred to the shortest one\n",
    "    for i in range(len(sorted_seq)-1):\n",
    "        lcs_result = lcs(sorted_seq[0], sorted_seq[i+1])\n",
    "        # if the new match is shorter than the first pair, update length and sequence\n",
    "        if len(lcs_result[0]) < lcs_count:\n",
    "            lcs_string = lcs_result\n",
    "            lcs_count = len(lcs_result[0])\n",
    "\n",
    "    return(lcs_string)"
   ]
  },
  {
   "cell_type": "code",
   "execution_count": 11,
   "metadata": {},
   "outputs": [
    {
     "data": {
      "text/plain": [
       "['CATAACGGAAACCAGCGCTAACGTAAAAAAGTGCCCTCAAAAAGGGTCCAGGCAAAGATCGGCGGGCGAAGTAGACTTCTAAAT']"
      ]
     },
     "execution_count": 11,
     "metadata": {},
     "output_type": "execute_result"
    }
   ],
   "source": [
    "lcsFromFile('Q14.txt')"
   ]
  },
  {
   "cell_type": "markdown",
   "metadata": {},
   "source": [
    "---"
   ]
  },
  {
   "cell_type": "markdown",
   "metadata": {},
   "source": [
    "### Method 2: longest substring matching \n"
   ]
  },
  {
   "cell_type": "code",
   "execution_count": 19,
   "metadata": {},
   "outputs": [],
   "source": [
    "seq = getSeqOnly('Q14.txt')"
   ]
  },
  {
   "cell_type": "code",
   "execution_count": 6,
   "metadata": {},
   "outputs": [
    {
     "data": {
      "text/plain": [
       "['ATCGATCG', 'ATCGAT', 'ATCG', 'ATC', 'ATG', 'ATCGATCGATCG']"
      ]
     },
     "execution_count": 6,
     "metadata": {},
     "output_type": "execute_result"
    }
   ],
   "source": [
    "#seq"
   ]
  },
  {
   "cell_type": "code",
   "execution_count": 20,
   "metadata": {},
   "outputs": [],
   "source": [
    "sorted_seq = sorted(seq, key = len)"
   ]
  },
  {
   "cell_type": "code",
   "execution_count": 8,
   "metadata": {},
   "outputs": [
    {
     "data": {
      "text/plain": [
       "['ATC', 'ATG', 'ATCG', 'ATCGAT', 'ATCGATCG', 'ATCGATCGATCG']"
      ]
     },
     "execution_count": 8,
     "metadata": {},
     "output_type": "execute_result"
    }
   ],
   "source": [
    "#sorted_seq"
   ]
  },
  {
   "cell_type": "code",
   "execution_count": 21,
   "metadata": {},
   "outputs": [],
   "source": [
    "shortest = sorted_seq[0]\n",
    "compared = sorted_seq[1:]\n",
    "motif = ''"
   ]
  },
  {
   "cell_type": "code",
   "execution_count": null,
   "metadata": {},
   "outputs": [],
   "source": [
    "for i in range(len(shortest)):\n",
    "    match_sta = True\n",
    "    match_len = 0\n",
    "    for j in range(i, len(compared)):\n",
    "        match_sta = True\n",
    "        match\n",
    "        if shortest[i:i+match_len] not in j"
   ]
  },
  {
   "cell_type": "code",
   "execution_count": null,
   "metadata": {},
   "outputs": [],
   "source": []
  },
  {
   "cell_type": "code",
   "execution_count": null,
   "metadata": {},
   "outputs": [],
   "source": [
    "for i in range(len(shortest)):\n",
    "    match = True\n",
    "    match_len = 0\n",
    "    while match:\n",
    "        # iterate over the rest of the sequence\n",
    "        for seq in sorted_seq:\n",
    "            # move to the next motif if there is no match\n",
    "            if shortest[i:i+match_len] not in seq:\n",
    "                match = False\n",
    "                break\n",
    "        # if there is a match\n",
    "        if match:\n",
    "            motif = max(shortest[i:i+match_len], motif, key = len)\n",
    "        match_len += 1\n",
    "print(motif)\n",
    "print(match_len)"
   ]
  },
  {
   "cell_type": "code",
   "execution_count": 12,
   "metadata": {},
   "outputs": [
    {
     "data": {
      "text/plain": [
       "True"
      ]
     },
     "execution_count": 12,
     "metadata": {},
     "output_type": "execute_result"
    }
   ],
   "source": [
    "'A' in 'ATG'"
   ]
  },
  {
   "cell_type": "code",
   "execution_count": null,
   "metadata": {},
   "outputs": [],
   "source": []
  },
  {
   "cell_type": "code",
   "execution_count": null,
   "metadata": {},
   "outputs": [],
   "source": []
  },
  {
   "cell_type": "code",
   "execution_count": null,
   "metadata": {},
   "outputs": [],
   "source": []
  },
  {
   "cell_type": "code",
   "execution_count": null,
   "metadata": {},
   "outputs": [],
   "source": [
    "for i in range(len(shortest)): # i = 0, 1, 2\n",
    "    for j in range(i, len(shortest)) # (i, j) = (0, 0), (0, 1), (0, 2), (1, 1), (1, 2), (2, 2)\n",
    "    present = True"
   ]
  },
  {
   "cell_type": "code",
   "execution_count": null,
   "metadata": {},
   "outputs": [],
   "source": []
  },
  {
   "cell_type": "code",
   "execution_count": null,
   "metadata": {},
   "outputs": [],
   "source": []
  },
  {
   "cell_type": "code",
   "execution_count": 22,
   "metadata": {},
   "outputs": [
    {
     "data": {
      "text/plain": [
       "'ATC'"
      ]
     },
     "execution_count": 22,
     "metadata": {},
     "output_type": "execute_result"
    }
   ],
   "source": [
    "shortest"
   ]
  },
  {
   "cell_type": "code",
   "execution_count": 23,
   "metadata": {},
   "outputs": [
    {
     "data": {
      "text/plain": [
       "['ATG', 'ATCG', 'ATCGAT', 'ATCGATCG', 'ATCGATCGATCG']"
      ]
     },
     "execution_count": 23,
     "metadata": {},
     "output_type": "execute_result"
    }
   ],
   "source": [
    "compared"
   ]
  },
  {
   "cell_type": "code",
   "execution_count": 297,
   "metadata": {
    "scrolled": true
   },
   "outputs": [
    {
     "name": "stdout",
     "output_type": "stream",
     "text": [
      "0 0\n",
      "0 1\n",
      "0 2\n",
      "1 1\n",
      "1 2\n",
      "2 2\n"
     ]
    }
   ],
   "source": [
    "for i in range(len(sorted_seq[0])):\n",
    "   # print(i)\n",
    "    for j in range(i, len(sorted_seq[0])):\n",
    "        print(i, j)\n",
    "#    print(i)\n",
    "#    for j in range(i, len(sorted_seq[0])):\n"
   ]
  },
  {
   "cell_type": "code",
   "execution_count": 298,
   "metadata": {},
   "outputs": [
    {
     "data": {
      "text/plain": [
       "['ATG', 'ATCG', 'ATCGAT', 'ATCGATCG', 'ATCGATCGATCG']"
      ]
     },
     "execution_count": 298,
     "metadata": {},
     "output_type": "execute_result"
    }
   ],
   "source": [
    "sorted_seq[1:]"
   ]
  },
  {
   "cell_type": "code",
   "execution_count": 300,
   "metadata": {},
   "outputs": [
    {
     "data": {
      "text/plain": [
       "True"
      ]
     },
     "execution_count": 300,
     "metadata": {},
     "output_type": "execute_result"
    }
   ],
   "source": [
    "'ATG' in sorted_seq[1:]"
   ]
  },
  {
   "cell_type": "code",
   "execution_count": null,
   "metadata": {},
   "outputs": [],
   "source": []
  }
 ],
 "metadata": {
  "kernelspec": {
   "display_name": "Python 3",
   "language": "python",
   "name": "python3"
  },
  "language_info": {
   "codemirror_mode": {
    "name": "ipython",
    "version": 3
   },
   "file_extension": ".py",
   "mimetype": "text/x-python",
   "name": "python",
   "nbconvert_exporter": "python",
   "pygments_lexer": "ipython3",
   "version": "3.7.3"
  }
 },
 "nbformat": 4,
 "nbformat_minor": 2
}
