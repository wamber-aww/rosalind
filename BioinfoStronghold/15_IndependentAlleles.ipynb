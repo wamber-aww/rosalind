{
 "cells": [
  {
   "cell_type": "markdown",
   "metadata": {},
   "source": [
    "# Independent Alleles\n",
    "\n",
    "Two events A and B are independent if Pr(A and B) is equal to Pr(A)×Pr(B). In other words, the events do not influence each other, so that we may simply calculate each of the individual probabilities separately and then multiply.\n",
    "\n",
    "More generally, random variables X and Y are independent if whenever A and B are respective events for X and Y, A and B are independent (i.e., Pr(A and B)=Pr(A)×Pr(B)).\n",
    "\n",
    "As an example of how helpful independence can be for calculating probabilities, let X and Y represent the numbers showing on two six-sided dice. Intuitively, the number of pips showing on one die should not affect the number showing on the other die. If we want to find the probability that X+Y is odd, then we don't need to draw a tree diagram and consider all possibilities. We simply first note that for X+Y to be odd, either X is even and Y is odd or X is odd and Y is even. In terms of probability, Pr(X+Y is odd)=Pr(X is even and Y is odd)+Pr(X is odd and Y is even). Using independence, this becomes [Pr(X is even)×Pr(Y is odd)]+[Pr(X is odd)×Pr(Y is even)], or (12)2+(12)2=12. You can verify this result in Figure 2, which shows all 36 outcomes for rolling two dice.\n",
    "\n",
    "- Given: Two positive integers k (k≤7) and N (N≤2k). In this problem, we begin with Tom, who in the 0th generation has genotype Aa Bb. Tom has two children in the 1st generation, each of whom has two children, and so on. Each organism always mates with an organism having genotype Aa Bb.\n",
    "- Return: The probability that at least N Aa Bb organisms will belong to the k-th generation of Tom's family tree (don't count the Aa Bb mates at each level). Assume that Mendel's second law holds for the factors.\n",
    "\n",
    "> **Sample Dataset**\n",
    ">\n",
    "```\n",
    "2 1\n",
    "```\n",
    "\n",
    "> **Sample Output**\n",
    ">\n",
    "```\n",
    "0.684\n",
    "```"
   ]
  },
  {
   "cell_type": "markdown",
   "metadata": {},
   "source": [
    "---"
   ]
  },
  {
   "cell_type": "markdown",
   "metadata": {},
   "source": [
    "As shown below, regardless of the offspring's genotype, the probability to produce AaBb with a AaBb mate is always 0.25\n",
    "```\n",
    "AABB x AaBb -> AaBb (0.25)  \n",
    "AABb x AaBb -> AaBb (0.25)  \n",
    "AAbb x AaBb -> AaBb (0.25)  \n",
    "AaBB x AaBb -> AaBb (0.25)  \n",
    "AaBb x AaBb -> AaBb (0.25)  \n",
    "Aabb x AaBb -> AaBb (0.25)  \n",
    "aaBB x AaBb -> AaBb (0.25)  \n",
    "aaBb x AaBb -> AaBb (0.25)  \n",
    "aabb x AaBb -> AaBb (0.25)  \n",
    "```"
   ]
  },
  {
   "cell_type": "markdown",
   "metadata": {},
   "source": [
    "At kth generation, the number of offspring is `2**k`  \n",
    "Choose `n` out of `2**k` for genotype `AaBb` and `2**k - n` for not `AaBb`  \n",
    "\n",
    "The probability follows a binomial calculation. Therefore,  \n",
    "for each generation `k`,   \n",
    "1. the probability of having `n` `AaBb` offspring is  \n",
    "`[choose(n from 2**k) * 0.25^n] * [choose(2**k - n from 2**k) * (1-0.25)^(2**k - n)]`  \n",
    "\n",
    "2. the probability of having AT LEAST `N` `AaBb` offspring is equivalent to 1 - not enough `AaBb`  \n",
    "`P(N) + P(N+1) + ... + P(N=2k) = 1 - [P(N-1) + P(N-2) + ... + P(N=0)]`  "
   ]
  },
  {
   "cell_type": "code",
   "execution_count": 64,
   "metadata": {},
   "outputs": [],
   "source": [
    "def offspringPr(K, N, P = 0.25):\n",
    "    \"\"\"\n",
    "    Calculate the probability of having at least\n",
    "    N AaBb offsprings at the kth generation\n",
    "    \"\"\"\n",
    "    from scipy.stats import binom \n",
    "    prob = 0\n",
    "    for i in range(N, 2**K + 1):\n",
    "        prob += binom.pmf(n = 2**K, k = i, p = P)\n",
    "    return(round(prob, 3))"
   ]
  },
  {
   "cell_type": "code",
   "execution_count": 65,
   "metadata": {},
   "outputs": [
    {
     "data": {
      "text/plain": [
       "0.722"
      ]
     },
     "execution_count": 65,
     "metadata": {},
     "output_type": "execute_result"
    }
   ],
   "source": [
    "offspringPr(5, 7)"
   ]
  }
 ],
 "metadata": {
  "kernelspec": {
   "display_name": "Python 3",
   "language": "python",
   "name": "python3"
  },
  "language_info": {
   "codemirror_mode": {
    "name": "ipython",
    "version": 3
   },
   "file_extension": ".py",
   "mimetype": "text/x-python",
   "name": "python",
   "nbconvert_exporter": "python",
   "pygments_lexer": "ipython3",
   "version": "3.7.3"
  }
 },
 "nbformat": 4,
 "nbformat_minor": 2
}
