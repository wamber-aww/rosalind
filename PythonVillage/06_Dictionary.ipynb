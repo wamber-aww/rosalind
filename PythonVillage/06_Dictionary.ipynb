{
 "cells": [
  {
   "cell_type": "markdown",
   "metadata": {},
   "source": [
    "# Intro to Python dictionary\n",
    "\n",
    "- Given: A string s of length at most 10000 letters.\n",
    "- Return: The number of occurrences of each word in s, where words are separated by spaces. Words are case-sensitive, and the lines in the output can be in any order.\n",
    "\n",
    "> **Sample Dataset**\n",
    ">\n",
    "```\n",
    "We tried list and we tried dicts also we tried Zen\n",
    "```\n",
    "\n",
    "> **Sample Output**\n",
    ">\n",
    "```\n",
    "and 1\n",
    "We 1\n",
    "tried 3\n",
    "dicts 1\n",
    "list 1\n",
    "we 2\n",
    "also 1\n",
    "Zen 1\n",
    "```"
   ]
  },
  {
   "cell_type": "code",
   "execution_count": 1,
   "metadata": {},
   "outputs": [],
   "source": [
    "#1: make a dictionary to count word frequency\n",
    "\n",
    "def countWordFreqDict(string):    \n",
    "\n",
    "    wordFreq = {}\n",
    "    for i in string.split():\n",
    "        if i not in wordFreq:\n",
    "            wordFreq[i] = 1 #first time you see a word it has only appeared once\n",
    "        elif i in wordFreq:\n",
    "            wordFreq[i] += 1 #next time just add 1\n",
    "            \n",
    "    for key, val in wordFreq.items():\n",
    "        #iterate through the dictionary and print\n",
    "        print(key, val)"
   ]
  },
  {
   "cell_type": "code",
   "execution_count": 2,
   "metadata": {},
   "outputs": [
    {
     "name": "stdout",
     "output_type": "stream",
     "text": [
      "We 1\n",
      "tried 3\n",
      "list 1\n",
      "and 1\n",
      "we 2\n",
      "dicts 1\n",
      "also 1\n",
      "Zen 1\n"
     ]
    }
   ],
   "source": [
    "string = 'We tried list and we tried dicts also we tried Zen'\n",
    "countWordFreqDict(string)"
   ]
  },
  {
   "cell_type": "code",
   "execution_count": 4,
   "metadata": {},
   "outputs": [],
   "source": [
    "#2: directly prints out the words and counts\n",
    "\n",
    "def countWordFreq(string):\n",
    "\n",
    "    uniqWords = set(string.split()) #remove duplicate words\n",
    "    for word in uniqWords:\n",
    "        print(word, string.split().count(word))"
   ]
  },
  {
   "cell_type": "code",
   "execution_count": 8,
   "metadata": {},
   "outputs": [
    {
     "name": "stdout",
     "output_type": "stream",
     "text": [
      "Zen 1\n",
      "tried 3\n",
      "We 1\n",
      "dicts 1\n",
      "we 2\n",
      "list 1\n",
      "also 1\n",
      "and 1\n"
     ]
    }
   ],
   "source": [
    "string = 'We tried list and we tried dicts also we tried Zen'\n",
    "countWordFreq(string)"
   ]
  }
 ],
 "metadata": {
  "kernelspec": {
   "display_name": "Python 3",
   "language": "python",
   "name": "python3"
  },
  "language_info": {
   "codemirror_mode": {
    "name": "ipython",
    "version": 3
   },
   "file_extension": ".py",
   "mimetype": "text/x-python",
   "name": "python",
   "nbconvert_exporter": "python",
   "pygments_lexer": "ipython3",
   "version": "3.6.4"
  }
 },
 "nbformat": 4,
 "nbformat_minor": 2
}
